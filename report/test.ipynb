{
 "metadata": {
  "language_info": {
   "codemirror_mode": {
    "name": "ipython",
    "version": 3
   },
   "file_extension": ".py",
   "mimetype": "text/x-python",
   "name": "python",
   "nbconvert_exporter": "python",
   "pygments_lexer": "ipython3",
   "version": "3.8.5"
  },
  "orig_nbformat": 2,
  "kernelspec": {
   "name": "python3",
   "display_name": "Python 3.8.5 64-bit ('ds': conda)"
  },
  "interpreter": {
   "hash": "ff527006388d7c8d536bbb807a7192f62d1ecee01b72df942c8fe08736fc1859"
  }
 },
 "nbformat": 4,
 "nbformat_minor": 2,
 "cells": [
  {
   "cell_type": "markdown",
   "source": [
    "# Image Processing and Computer Vision"
   ],
   "metadata": {}
  },
  {
   "cell_type": "code",
   "execution_count": 1,
   "source": [
    "import numpy as np\n",
    "import pandas as pd\n",
    "import seaborn as sns\n",
    "import matplotlib.pyplot as plt"
   ],
   "outputs": [],
   "metadata": {}
  },
  {
   "cell_type": "markdown",
   "source": [
    "Save cascade training info."
   ],
   "metadata": {}
  },
  {
   "cell_type": "code",
   "execution_count": 2,
   "source": [
    "stages = [1, 2, 2.5, 3]\n",
    "tpr = [1, 1, 1]\n",
    "fpr = [1, 0.0494658, 0.0012683]\n",
    "\n",
    "cascade_info = np.array(([1, 2, 3], [1, 1, 1], [1, 0.0494658, 0.0012683]))"
   ],
   "outputs": [],
   "metadata": {}
  },
  {
   "cell_type": "markdown",
   "source": [
    "- Create dataframe for Cascade training info."
   ],
   "metadata": {}
  },
  {
   "cell_type": "code",
   "execution_count": 3,
   "source": [
    "cols = ['Stage', 'TPR', 'FPR']\n",
    "cascade_df = pd.DataFrame(cascade_info.T, columns=cols)\n",
    "cascade_df['Stage'] = cascade_df['Stage'].astype('int')\n",
    "# cascade_df = cascade_df.set_index('Stage')\n",
    "cascade_df"
   ],
   "outputs": [
    {
     "output_type": "execute_result",
     "data": {
      "text/plain": [
       "   Stage  TPR       FPR\n",
       "0      1  1.0  1.000000\n",
       "1      2  1.0  0.049466\n",
       "2      3  1.0  0.001268"
      ],
      "text/html": [
       "<div>\n",
       "<style scoped>\n",
       "    .dataframe tbody tr th:only-of-type {\n",
       "        vertical-align: middle;\n",
       "    }\n",
       "\n",
       "    .dataframe tbody tr th {\n",
       "        vertical-align: top;\n",
       "    }\n",
       "\n",
       "    .dataframe thead th {\n",
       "        text-align: right;\n",
       "    }\n",
       "</style>\n",
       "<table border=\"1\" class=\"dataframe\">\n",
       "  <thead>\n",
       "    <tr style=\"text-align: right;\">\n",
       "      <th></th>\n",
       "      <th>Stage</th>\n",
       "      <th>TPR</th>\n",
       "      <th>FPR</th>\n",
       "    </tr>\n",
       "  </thead>\n",
       "  <tbody>\n",
       "    <tr>\n",
       "      <th>0</th>\n",
       "      <td>1</td>\n",
       "      <td>1.0</td>\n",
       "      <td>1.000000</td>\n",
       "    </tr>\n",
       "    <tr>\n",
       "      <th>1</th>\n",
       "      <td>2</td>\n",
       "      <td>1.0</td>\n",
       "      <td>0.049466</td>\n",
       "    </tr>\n",
       "    <tr>\n",
       "      <th>2</th>\n",
       "      <td>3</td>\n",
       "      <td>1.0</td>\n",
       "      <td>0.001268</td>\n",
       "    </tr>\n",
       "  </tbody>\n",
       "</table>\n",
       "</div>"
      ]
     },
     "metadata": {},
     "execution_count": 3
    }
   ],
   "metadata": {}
  },
  {
   "cell_type": "markdown",
   "source": [
    "Plot TPR and FPR over the stages"
   ],
   "metadata": {}
  },
  {
   "cell_type": "code",
   "execution_count": 17,
   "source": [
    "# fig_df = df[['Number of trees', 'Train R2 score', 'Test R2 score']]\n",
    "fig_df = pd.melt(cascade_df, ['Stage'], var_name=\"\",\n",
    "                 value_name=\"Rate\")\n",
    "\n",
    "fig, ax = plt.subplots(figsize=(16, 4))\n",
    "\n",
    "plt.subplot(121)\n",
    "fig = sns.lineplot(data=fig_df, x='Stage', y='Rate', hue='')\n",
    "fig.set(xlim=[1, 3], ylim=[0, 1.15])\n",
    "fig.set_title(\"TP and FP Rates Across Training Stages of Cascade\", fontsize=14)\n",
    "fig.set_xticks([1, 2, 3])\n",
    "fig.set_xlabel(\"Stage\", fontsize=13)\n",
    "fig.set_ylabel(\"Rate\", fontsize=13)"
   ],
   "outputs": [
    {
     "output_type": "execute_result",
     "data": {
      "text/plain": [
       "Text(0, 0.5, 'Rate')"
      ]
     },
     "metadata": {},
     "execution_count": 17
    },
    {
     "output_type": "display_data",
     "data": {
      "text/plain": [
       "<Figure size 1152x288 with 1 Axes>"
      ],
      "image/png": "[encoded data removed]"
     },
     "metadata": {
      "needs_background": "light"
     }
    }
   ],
   "metadata": {}
  },
  {
   "cell_type": "markdown",
   "source": [],
   "metadata": {}
  },
  {
   "cell_type": "markdown",
   "source": [
    "## Results"
   ],
   "metadata": {}
  },
  {
   "cell_type": "markdown",
   "source": [
    "### ViolaJones face detection"
   ],
   "metadata": {}
  },
  {
   "cell_type": "code",
   "execution_count": null,
   "source": [
    "targets     = []\n",
    "detections  = []\n",
    "tp count    = []\n",
    "fp count    = []\n",
    "fn count    = []\n",
    "precision   = []\n",
    "recall      = []\n",
    "f1          = []\n",
    "iou         = []"
   ],
   "outputs": [],
   "metadata": {}
  },
  {
   "cell_type": "markdown",
   "source": [
    "### ViolaJones dartboard detection"
   ],
   "metadata": {}
  },
  {
   "cell_type": "code",
   "execution_count": null,
   "source": [
    "targets     = []\n",
    "detections  = []\n",
    "tp count    = []\n",
    "fp count    = []\n",
    "fn count    = []\n",
    "precision   = []\n",
    "recall      = []\n",
    "f1          = []\n",
    "iou         = []"
   ],
   "outputs": [],
   "metadata": {}
  },
  {
   "cell_type": "markdown",
   "source": [
    "### Ensemble dartboard detection"
   ],
   "metadata": {}
  },
  {
   "cell_type": "code",
   "execution_count": null,
   "source": [
    "targets     = []\n",
    "detections  = []\n",
    "tp count    = []\n",
    "fp count    = []\n",
    "fn count    = []\n",
    "precision   = []\n",
    "recall      = []\n",
    "f1          = []\n",
    "iou         = []"
   ],
   "outputs": [],
   "metadata": {}
  }
 ]
}