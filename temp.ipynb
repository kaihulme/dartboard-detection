{
 "cells": [
  {
   "cell_type": "code",
   "execution_count": 34,
   "metadata": {},
   "outputs": [],
   "source": [
    "import numpy as np\n",
    "import pandas as pd\n",
    "\n",
    "from darts.tests.groundtruths import gettruedartboards"
   ]
  },
  {
   "cell_type": "code",
   "execution_count": 42,
   "metadata": {},
   "outputs": [
    {
     "data": {
      "text/plain": [
       "array([[426,   0, 193, 217],\n",
       "       [168, 106, 246, 242],\n",
       "       [ 90,  88, 100, 106],\n",
       "       [314, 139,  82,  86],\n",
       "       [155,  65, 260, 260],\n",
       "       [412, 125, 143, 135],\n",
       "       [205, 108,  73,  78],\n",
       "       [235, 150, 183, 182],\n",
       "       [ 65, 240,  70, 110],\n",
       "       [829, 201, 142, 208],\n",
       "       [170,  13, 300, 300],\n",
       "       [ 78,  91, 117, 134],\n",
       "       [578, 118,  64, 101],\n",
       "       [913, 142,  40,  79],\n",
       "       [169,  93,  71,  96],\n",
       "       [153,  60,  71, 169],\n",
       "       [257, 103, 161, 164],\n",
       "       [103,  84, 157, 159],\n",
       "       [971,  84, 154, 150]])"
      ]
     },
     "execution_count": 42,
     "metadata": {},
     "output_type": "execute_result"
    }
   ],
   "source": [
    "boxes = []\n",
    "\n",
    "for i in range(15):\n",
    "    boards = gettruedartboards(\"dart{}\".format(i))\n",
    "    for board in boards:\n",
    "        boxes.append(board)\n",
    "\n",
    "boxes = np.asarray(boxes)\n",
    "boxes"
   ]
  },
  {
   "cell_type": "code",
   "execution_count": 49,
   "metadata": {},
   "outputs": [
    {
     "data": {
      "text/plain": [
       "(40, 300)"
      ]
     },
     "execution_count": 49,
     "metadata": {},
     "output_type": "execute_result"
    }
   ],
   "source": [
    "boxes[:, 2:].min(), boxes[:, 2:].max()"
   ]
  },
  {
   "cell_type": "markdown",
   "metadata": {},
   "source": []
  }
 ],
 "metadata": {
  "interpreter": {
   "hash": "ff527006388d7c8d536bbb807a7192f62d1ecee01b72df942c8fe08736fc1859"
  },
  "kernelspec": {
   "display_name": "Python 3.8.5 64-bit ('ds': conda)",
   "name": "python3"
  },
  "language_info": {
   "codemirror_mode": {
    "name": "ipython",
    "version": 3
   },
   "file_extension": ".py",
   "mimetype": "text/x-python",
   "name": "python",
   "nbconvert_exporter": "python",
   "pygments_lexer": "ipython3",
   "version": "3.8.5"
  },
  "orig_nbformat": 4
 },
 "nbformat": 4,
 "nbformat_minor": 2
}