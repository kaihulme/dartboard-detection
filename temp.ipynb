{
 "cells": [
  {
   "cell_type": "code",
   "execution_count": 34,
   "source": [
    "import numpy as np\n",
    "import pandas as pd\n",
    "\n",
    "from darts.tests.groundtruths import gettruedartboards"
   ],
   "outputs": [],
   "metadata": {}
  },
  {
   "cell_type": "code",
   "execution_count": 42,
   "source": [
    "boxes = []\n",
    "\n",
    "for i in range(15):\n",
    "    boards = gettruedartboards(\"dart{}\".format(i))\n",
    "    for board in boards:\n",
    "        boxes.append(board)\n",
    "\n",
    "boxes = np.asarray(boxes)\n",
    "boxes"
   ],
   "outputs": [
    {
     "output_type": "execute_result",
     "data": {
      "text/plain": [
       "array([[426,   0, 193, 217],\n",
       "       [168, 106, 246, 242],\n",
       "       [ 90,  88, 100, 106],\n",
       "       [314, 139,  82,  86],\n",
       "       [155,  65, 260, 260],\n",
       "       [412, 125, 143, 135],\n",
       "       [205, 108,  73,  78],\n",
       "       [235, 150, 183, 182],\n",
       "       [ 65, 240,  70, 110],\n",
       "       [829, 201, 142, 208],\n",
       "       [170,  13, 300, 300],\n",
       "       [ 78,  91, 117, 134],\n",
       "       [578, 118,  64, 101],\n",
       "       [913, 142,  40,  79],\n",
       "       [169,  93,  71,  96],\n",
       "       [153,  60,  71, 169],\n",
       "       [257, 103, 161, 164],\n",
       "       [103,  84, 157, 159],\n",
       "       [971,  84, 154, 150]])"
      ]
     },
     "metadata": {},
     "execution_count": 42
    }
   ],
   "metadata": {}
  },
  {
   "cell_type": "code",
   "execution_count": 49,
   "source": [
    "boxes[:, 2:].min(), boxes[:, 2:].max()"
   ],
   "outputs": [
    {
     "output_type": "execute_result",
     "data": {
      "text/plain": [
       "(40, 300)"
      ]
     },
     "metadata": {},
     "execution_count": 49
    }
   ],
   "metadata": {}
  },
  {
   "cell_type": "code",
   "execution_count": 59,
   "source": [
    "boards = [gettruedartboards(\"dart{}\".format(i)) for i in range(15)]\n",
    "centres = [[(x + w/2, y + h/2) for (x, y, w, h) in board] for board in boards]\n",
    "centres"
   ],
   "outputs": [
    {
     "output_type": "execute_result",
     "data": {
      "text/plain": [
       "[[(522.5, 108.5)],\n",
       " [(291.0, 227.0)],\n",
       " [(140.0, 141.0)],\n",
       " [(355.0, 182.0)],\n",
       " [(285.0, 195.0)],\n",
       " [(483.5, 192.5)],\n",
       " [(241.5, 147.0)],\n",
       " [(326.5, 241.0)],\n",
       " [(100.0, 295.0), (900.0, 305.0)],\n",
       " [(320.0, 163.0)],\n",
       " [(136.5, 158.0), (610.0, 168.5), (933.0, 181.5)],\n",
       " [(204.5, 141.0)],\n",
       " [(188.5, 144.5)],\n",
       " [(337.5, 185.0)],\n",
       " [(181.5, 163.5), (1048.0, 159.0)]]"
      ]
     },
     "metadata": {},
     "execution_count": 59
    }
   ],
   "metadata": {}
  },
  {
   "cell_type": "code",
   "execution_count": 62,
   "source": [
    "multiple = [centre for centre in centres if len(centre) > 1]\n",
    "multiple"
   ],
   "outputs": [
    {
     "output_type": "execute_result",
     "data": {
      "text/plain": [
       "[[(100.0, 295.0), (900.0, 305.0)],\n",
       " [(136.5, 158.0), (610.0, 168.5), (933.0, 181.5)],\n",
       " [(181.5, 163.5), (1048.0, 159.0)]]"
      ]
     },
     "metadata": {},
     "execution_count": 62
    }
   ],
   "metadata": {}
  },
  {
   "cell_type": "code",
   "execution_count": 74,
   "source": [
    "import math\n",
    "from itertools import combinations\n",
    "\n",
    "for centre in multiple:\n",
    "    dists = []\n",
    "    for (ax, ay), (bx, by) in combinations(centre, 2):\n",
    "        dists.append(math.sqrt((ax-bx)**2 + (ay-by)**2))\n",
    "    print(np.min(dists))\n"
   ],
   "outputs": [
    {
     "output_type": "stream",
     "name": "stdout",
     "text": [
      "800.0624975587845\n",
      "323.2615040489665\n",
      "866.5116848606256\n"
     ]
    }
   ],
   "metadata": {}
  },
  {
   "cell_type": "markdown",
   "source": [],
   "metadata": {}
  },
  {
   "cell_type": "code",
   "execution_count": 75,
   "source": [
    "results_df = pd.DataFrame(columns=[\n",
    "    \"image\",\n",
    "    \"targets\", \"detections\",\n",
    "    \"tp_count\", \"fp_count\", \"fn_count\",\n",
    "    \"precision\", \"recall\", \"f1_score\", \"avg_iou\",\n",
    "]).set_index(\"image\")\n",
    "\n",
    "results_df.loc[\"avg\"] = 0\n",
    "\n",
    "results_df"
   ],
   "outputs": [
    {
     "output_type": "execute_result",
     "data": {
      "text/plain": [
       "      targets detections tp_count fp_count fn_count precision recall f1_score  \\\n",
       "image                                                                           \n",
       "avg         0          0        0        0        0         0      0        0   \n",
       "\n",
       "      avg_iou  \n",
       "image          \n",
       "avg         0  "
      ],
      "text/html": [
       "<div>\n",
       "<style scoped>\n",
       "    .dataframe tbody tr th:only-of-type {\n",
       "        vertical-align: middle;\n",
       "    }\n",
       "\n",
       "    .dataframe tbody tr th {\n",
       "        vertical-align: top;\n",
       "    }\n",
       "\n",
       "    .dataframe thead th {\n",
       "        text-align: right;\n",
       "    }\n",
       "</style>\n",
       "<table border=\"1\" class=\"dataframe\">\n",
       "  <thead>\n",
       "    <tr style=\"text-align: right;\">\n",
       "      <th></th>\n",
       "      <th>targets</th>\n",
       "      <th>detections</th>\n",
       "      <th>tp_count</th>\n",
       "      <th>fp_count</th>\n",
       "      <th>fn_count</th>\n",
       "      <th>precision</th>\n",
       "      <th>recall</th>\n",
       "      <th>f1_score</th>\n",
       "      <th>avg_iou</th>\n",
       "    </tr>\n",
       "    <tr>\n",
       "      <th>image</th>\n",
       "      <th></th>\n",
       "      <th></th>\n",
       "      <th></th>\n",
       "      <th></th>\n",
       "      <th></th>\n",
       "      <th></th>\n",
       "      <th></th>\n",
       "      <th></th>\n",
       "      <th></th>\n",
       "    </tr>\n",
       "  </thead>\n",
       "  <tbody>\n",
       "    <tr>\n",
       "      <th>avg</th>\n",
       "      <td>0</td>\n",
       "      <td>0</td>\n",
       "      <td>0</td>\n",
       "      <td>0</td>\n",
       "      <td>0</td>\n",
       "      <td>0</td>\n",
       "      <td>0</td>\n",
       "      <td>0</td>\n",
       "      <td>0</td>\n",
       "    </tr>\n",
       "  </tbody>\n",
       "</table>\n",
       "</div>"
      ]
     },
     "metadata": {},
     "execution_count": 75
    }
   ],
   "metadata": {}
  },
  {
   "cell_type": "code",
   "execution_count": 81,
   "source": [
    "csv_dir = os.path.join(os.getcwd(), \"darts/out/results\")\n",
    "csv_path = os.path.join(csv_dir, \"ensemble_results.csv\")\n",
    "\n",
    "results_df = pd.read_csv(csv_path).set_index(\"image\")\n",
    "results_df"
   ],
   "outputs": [
    {
     "output_type": "execute_result",
     "data": {
      "text/plain": [
       "       targets  detections  tp_count  fp_count  fn_count  precision  recall  \\\n",
       "image                                                                         \n",
       "avg        1.0         1.0      0.75      0.25      0.25        2.5     3.0   \n",
       "dart0      1.0         1.0      1.00      0.00      0.00        1.0     1.0   \n",
       "dart1      1.0         1.0      1.00      0.00      0.00        1.0     1.0   \n",
       "dart2      1.0         2.0      1.00      1.00      0.00        0.5     1.0   \n",
       "dart3      1.0         0.0      0.00      0.00      1.00        0.0     0.0   \n",
       "\n",
       "       f1_score   avg_iou  \n",
       "image                      \n",
       "avg    2.666667  2.812747  \n",
       "dart0  1.000000  0.872038  \n",
       "dart1  1.000000  0.877551  \n",
       "dart2  0.666667  1.063158  \n",
       "dart3  0.000000  0.000000  "
      ],
      "text/html": [
       "<div>\n",
       "<style scoped>\n",
       "    .dataframe tbody tr th:only-of-type {\n",
       "        vertical-align: middle;\n",
       "    }\n",
       "\n",
       "    .dataframe tbody tr th {\n",
       "        vertical-align: top;\n",
       "    }\n",
       "\n",
       "    .dataframe thead th {\n",
       "        text-align: right;\n",
       "    }\n",
       "</style>\n",
       "<table border=\"1\" class=\"dataframe\">\n",
       "  <thead>\n",
       "    <tr style=\"text-align: right;\">\n",
       "      <th></th>\n",
       "      <th>targets</th>\n",
       "      <th>detections</th>\n",
       "      <th>tp_count</th>\n",
       "      <th>fp_count</th>\n",
       "      <th>fn_count</th>\n",
       "      <th>precision</th>\n",
       "      <th>recall</th>\n",
       "      <th>f1_score</th>\n",
       "      <th>avg_iou</th>\n",
       "    </tr>\n",
       "    <tr>\n",
       "      <th>image</th>\n",
       "      <th></th>\n",
       "      <th></th>\n",
       "      <th></th>\n",
       "      <th></th>\n",
       "      <th></th>\n",
       "      <th></th>\n",
       "      <th></th>\n",
       "      <th></th>\n",
       "      <th></th>\n",
       "    </tr>\n",
       "  </thead>\n",
       "  <tbody>\n",
       "    <tr>\n",
       "      <th>avg</th>\n",
       "      <td>1.0</td>\n",
       "      <td>1.0</td>\n",
       "      <td>0.75</td>\n",
       "      <td>0.25</td>\n",
       "      <td>0.25</td>\n",
       "      <td>2.5</td>\n",
       "      <td>3.0</td>\n",
       "      <td>2.666667</td>\n",
       "      <td>2.812747</td>\n",
       "    </tr>\n",
       "    <tr>\n",
       "      <th>dart0</th>\n",
       "      <td>1.0</td>\n",
       "      <td>1.0</td>\n",
       "      <td>1.00</td>\n",
       "      <td>0.00</td>\n",
       "      <td>0.00</td>\n",
       "      <td>1.0</td>\n",
       "      <td>1.0</td>\n",
       "      <td>1.000000</td>\n",
       "      <td>0.872038</td>\n",
       "    </tr>\n",
       "    <tr>\n",
       "      <th>dart1</th>\n",
       "      <td>1.0</td>\n",
       "      <td>1.0</td>\n",
       "      <td>1.00</td>\n",
       "      <td>0.00</td>\n",
       "      <td>0.00</td>\n",
       "      <td>1.0</td>\n",
       "      <td>1.0</td>\n",
       "      <td>1.000000</td>\n",
       "      <td>0.877551</td>\n",
       "    </tr>\n",
       "    <tr>\n",
       "      <th>dart2</th>\n",
       "      <td>1.0</td>\n",
       "      <td>2.0</td>\n",
       "      <td>1.00</td>\n",
       "      <td>1.00</td>\n",
       "      <td>0.00</td>\n",
       "      <td>0.5</td>\n",
       "      <td>1.0</td>\n",
       "      <td>0.666667</td>\n",
       "      <td>1.063158</td>\n",
       "    </tr>\n",
       "    <tr>\n",
       "      <th>dart3</th>\n",
       "      <td>1.0</td>\n",
       "      <td>0.0</td>\n",
       "      <td>0.00</td>\n",
       "      <td>0.00</td>\n",
       "      <td>1.00</td>\n",
       "      <td>0.0</td>\n",
       "      <td>0.0</td>\n",
       "      <td>0.000000</td>\n",
       "      <td>0.000000</td>\n",
       "    </tr>\n",
       "  </tbody>\n",
       "</table>\n",
       "</div>"
      ]
     },
     "metadata": {},
     "execution_count": 81
    }
   ],
   "metadata": {}
  },
  {
   "cell_type": "code",
   "execution_count": 85,
   "source": [
    "avgs = [\"precision\", \"recall\", \"f1_score\", \"avg_iou\"]\n",
    "sums = [\"targets\", \"detections\", \"tp_count\", \"fp_count\", \"fn_count\"]\n",
    "\n",
    "# results_df.loc[\"avg\"][sums] = \n",
    "results_df.drop(\"avg\", axis=0, inplace=False)[sums].sum(axis=0)\n",
    "\n",
    "# results_df[sums]"
   ],
   "outputs": [
    {
     "output_type": "execute_result",
     "data": {
      "text/plain": [
       "targets       4.0\n",
       "detections    4.0\n",
       "tp_count      3.0\n",
       "fp_count      1.0\n",
       "fn_count      1.0\n",
       "dtype: float64"
      ]
     },
     "metadata": {},
     "execution_count": 85
    }
   ],
   "metadata": {}
  },
  {
   "cell_type": "code",
   "execution_count": 5,
   "source": [
    "a = [[1, 2, 3, 4], [5, 6, 7, 8], [9, 10, 11, 12]]\n",
    "b = [[1, 2, 3, 4, [6, 7, 8, 9]], [10, 11, 12, 13]]\n",
    "\n",
    "a"
   ],
   "outputs": [
    {
     "output_type": "execute_result",
     "data": {
      "text/plain": [
       "[[1, 2, 3, 4], [5, 6, 7, 8], [9, 10, 11, 12]]"
      ]
     },
     "metadata": {},
     "execution_count": 5
    }
   ],
   "metadata": {}
  },
  {
   "cell_type": "code",
   "execution_count": 6,
   "source": [
    "a.remove([1, 2, 3, 4])\n",
    "a"
   ],
   "outputs": [
    {
     "output_type": "execute_result",
     "data": {
      "text/plain": [
       "[[5, 6, 7, 8], [9, 10, 11, 12]]"
      ]
     },
     "metadata": {},
     "execution_count": 6
    }
   ],
   "metadata": {}
  }
 ],
 "metadata": {
  "interpreter": {
   "hash": "ff527006388d7c8d536bbb807a7192f62d1ecee01b72df942c8fe08736fc1859"
  },
  "kernelspec": {
   "name": "python3",
   "display_name": "Python 3.8.5 64-bit ('ds': conda)"
  },
  "language_info": {
   "codemirror_mode": {
    "name": "ipython",
    "version": 3
   },
   "file_extension": ".py",
   "mimetype": "text/x-python",
   "name": "python",
   "nbconvert_exporter": "python",
   "pygments_lexer": "ipython3",
   "version": "3.8.5"
  },
  "orig_nbformat": 4
 },
 "nbformat": 4,
 "nbformat_minor": 2
}