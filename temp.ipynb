{
 "cells": [
  {
   "cell_type": "code",
   "execution_count": 34,
   "metadata": {},
   "outputs": [],
   "source": [
    "import numpy as np\n",
    "import pandas as pd\n",
    "\n",
    "from darts.tests.groundtruths import gettruedartboards"
   ]
  },
  {
   "cell_type": "code",
   "execution_count": 42,
   "metadata": {},
   "outputs": [
    {
     "data": {
      "text/plain": [
       "array([[426,   0, 193, 217],\n",
       "       [168, 106, 246, 242],\n",
       "       [ 90,  88, 100, 106],\n",
       "       [314, 139,  82,  86],\n",
       "       [155,  65, 260, 260],\n",
       "       [412, 125, 143, 135],\n",
       "       [205, 108,  73,  78],\n",
       "       [235, 150, 183, 182],\n",
       "       [ 65, 240,  70, 110],\n",
       "       [829, 201, 142, 208],\n",
       "       [170,  13, 300, 300],\n",
       "       [ 78,  91, 117, 134],\n",
       "       [578, 118,  64, 101],\n",
       "       [913, 142,  40,  79],\n",
       "       [169,  93,  71,  96],\n",
       "       [153,  60,  71, 169],\n",
       "       [257, 103, 161, 164],\n",
       "       [103,  84, 157, 159],\n",
       "       [971,  84, 154, 150]])"
      ]
     },
     "execution_count": 42,
     "metadata": {},
     "output_type": "execute_result"
    }
   ],
   "source": [
    "boxes = []\n",
    "\n",
    "for i in range(15):\n",
    "    boards = gettruedartboards(\"dart{}\".format(i))\n",
    "    for board in boards:\n",
    "        boxes.append(board)\n",
    "\n",
    "boxes = np.asarray(boxes)\n",
    "boxes"
   ]
  },
  {
   "cell_type": "code",
   "execution_count": 49,
   "metadata": {},
   "outputs": [
    {
     "data": {
      "text/plain": [
       "(40, 300)"
      ]
     },
     "execution_count": 49,
     "metadata": {},
     "output_type": "execute_result"
    }
   ],
   "source": [
    "boxes[:, 2:].min(), boxes[:, 2:].max()"
   ]
  },
  {
   "cell_type": "code",
   "execution_count": 59,
   "metadata": {},
   "outputs": [
    {
     "data": {
      "text/plain": [
       "[[(522.5, 108.5)],\n",
       " [(291.0, 227.0)],\n",
       " [(140.0, 141.0)],\n",
       " [(355.0, 182.0)],\n",
       " [(285.0, 195.0)],\n",
       " [(483.5, 192.5)],\n",
       " [(241.5, 147.0)],\n",
       " [(326.5, 241.0)],\n",
       " [(100.0, 295.0), (900.0, 305.0)],\n",
       " [(320.0, 163.0)],\n",
       " [(136.5, 158.0), (610.0, 168.5), (933.0, 181.5)],\n",
       " [(204.5, 141.0)],\n",
       " [(188.5, 144.5)],\n",
       " [(337.5, 185.0)],\n",
       " [(181.5, 163.5), (1048.0, 159.0)]]"
      ]
     },
     "execution_count": 59,
     "metadata": {},
     "output_type": "execute_result"
    }
   ],
   "source": [
    "boards = [gettruedartboards(\"dart{}\".format(i)) for i in range(15)]\n",
    "centres = [[(x + w/2, y + h/2) for (x, y, w, h) in board] for board in boards]\n",
    "centres"
   ]
  },
  {
   "cell_type": "code",
   "execution_count": 62,
   "metadata": {},
   "outputs": [
    {
     "data": {
      "text/plain": [
       "[[(100.0, 295.0), (900.0, 305.0)],\n",
       " [(136.5, 158.0), (610.0, 168.5), (933.0, 181.5)],\n",
       " [(181.5, 163.5), (1048.0, 159.0)]]"
      ]
     },
     "execution_count": 62,
     "metadata": {},
     "output_type": "execute_result"
    }
   ],
   "source": [
    "multiple = [centre for centre in centres if len(centre) > 1]\n",
    "multiple"
   ]
  },
  {
   "cell_type": "code",
   "execution_count": 74,
   "metadata": {},
   "outputs": [
    {
     "name": "stdout",
     "output_type": "stream",
     "text": [
      "800.0624975587845\n",
      "323.2615040489665\n",
      "866.5116848606256\n"
     ]
    }
   ],
   "source": [
    "import math\n",
    "from itertools import combinations\n",
    "\n",
    "for centre in multiple:\n",
    "    dists = []\n",
    "    for (ax, ay), (bx, by) in combinations(centre, 2):\n",
    "        dists.append(math.sqrt((ax-bx)**2 + (ay-by)**2))\n",
    "    print(np.min(dists))\n"
   ]
  },
  {
   "cell_type": "markdown",
   "metadata": {},
   "source": []
  },
  {
   "cell_type": "code",
   "execution_count": 75,
   "metadata": {},
   "outputs": [
    {
     "data": {
      "text/html": [
       "<div>\n",
       "<style scoped>\n",
       "    .dataframe tbody tr th:only-of-type {\n",
       "        vertical-align: middle;\n",
       "    }\n",
       "\n",
       "    .dataframe tbody tr th {\n",
       "        vertical-align: top;\n",
       "    }\n",
       "\n",
       "    .dataframe thead th {\n",
       "        text-align: right;\n",
       "    }\n",
       "</style>\n",
       "<table border=\"1\" class=\"dataframe\">\n",
       "  <thead>\n",
       "    <tr style=\"text-align: right;\">\n",
       "      <th></th>\n",
       "      <th>targets</th>\n",
       "      <th>detections</th>\n",
       "      <th>tp_count</th>\n",
       "      <th>fp_count</th>\n",
       "      <th>fn_count</th>\n",
       "      <th>precision</th>\n",
       "      <th>recall</th>\n",
       "      <th>f1_score</th>\n",
       "      <th>avg_iou</th>\n",
       "    </tr>\n",
       "    <tr>\n",
       "      <th>image</th>\n",
       "      <th></th>\n",
       "      <th></th>\n",
       "      <th></th>\n",
       "      <th></th>\n",
       "      <th></th>\n",
       "      <th></th>\n",
       "      <th></th>\n",
       "      <th></th>\n",
       "      <th></th>\n",
       "    </tr>\n",
       "  </thead>\n",
       "  <tbody>\n",
       "    <tr>\n",
       "      <th>avg</th>\n",
       "      <td>0</td>\n",
       "      <td>0</td>\n",
       "      <td>0</td>\n",
       "      <td>0</td>\n",
       "      <td>0</td>\n",
       "      <td>0</td>\n",
       "      <td>0</td>\n",
       "      <td>0</td>\n",
       "      <td>0</td>\n",
       "    </tr>\n",
       "  </tbody>\n",
       "</table>\n",
       "</div>"
      ],
      "text/plain": [
       "      targets detections tp_count fp_count fn_count precision recall f1_score  \\\n",
       "image                                                                           \n",
       "avg         0          0        0        0        0         0      0        0   \n",
       "\n",
       "      avg_iou  \n",
       "image          \n",
       "avg         0  "
      ]
     },
     "execution_count": 75,
     "metadata": {},
     "output_type": "execute_result"
    }
   ],
   "source": [
    "results_df = pd.DataFrame(columns=[\n",
    "    \"image\",\n",
    "    \"targets\", \"detections\",\n",
    "    \"tp_count\", \"fp_count\", \"fn_count\",\n",
    "    \"precision\", \"recall\", \"f1_score\", \"avg_iou\",\n",
    "]).set_index(\"image\")\n",
    "\n",
    "results_df.loc[\"avg\"] = 0\n",
    "\n",
    "results_df"
   ]
  },
  {
   "cell_type": "code",
   "execution_count": 77,
   "metadata": {},
   "outputs": [
    {
     "data": {
      "text/html": [
       "<div>\n",
       "<style scoped>\n",
       "    .dataframe tbody tr th:only-of-type {\n",
       "        vertical-align: middle;\n",
       "    }\n",
       "\n",
       "    .dataframe tbody tr th {\n",
       "        vertical-align: top;\n",
       "    }\n",
       "\n",
       "    .dataframe thead th {\n",
       "        text-align: right;\n",
       "    }\n",
       "</style>\n",
       "<table border=\"1\" class=\"dataframe\">\n",
       "  <thead>\n",
       "    <tr style=\"text-align: right;\">\n",
       "      <th></th>\n",
       "      <th>targets</th>\n",
       "      <th>detections</th>\n",
       "      <th>tp_count</th>\n",
       "      <th>fp_count</th>\n",
       "      <th>fn_count</th>\n",
       "      <th>precision</th>\n",
       "      <th>recall</th>\n",
       "      <th>f1_score</th>\n",
       "      <th>avg_iou</th>\n",
       "    </tr>\n",
       "    <tr>\n",
       "      <th>image</th>\n",
       "      <th></th>\n",
       "      <th></th>\n",
       "      <th></th>\n",
       "      <th></th>\n",
       "      <th></th>\n",
       "      <th></th>\n",
       "      <th></th>\n",
       "      <th></th>\n",
       "      <th></th>\n",
       "    </tr>\n",
       "  </thead>\n",
       "  <tbody>\n",
       "    <tr>\n",
       "      <th>avg</th>\n",
       "      <td>1.0</td>\n",
       "      <td>1.0</td>\n",
       "      <td>0.75</td>\n",
       "      <td>0.25</td>\n",
       "      <td>0.25</td>\n",
       "      <td>2.5</td>\n",
       "      <td>3.0</td>\n",
       "      <td>2.666667</td>\n",
       "      <td>2.812747</td>\n",
       "    </tr>\n",
       "    <tr>\n",
       "      <th>dart0</th>\n",
       "      <td>1.0</td>\n",
       "      <td>1.0</td>\n",
       "      <td>1.00</td>\n",
       "      <td>0.00</td>\n",
       "      <td>0.00</td>\n",
       "      <td>1.0</td>\n",
       "      <td>1.0</td>\n",
       "      <td>1.000000</td>\n",
       "      <td>0.872038</td>\n",
       "    </tr>\n",
       "    <tr>\n",
       "      <th>dart1</th>\n",
       "      <td>1.0</td>\n",
       "      <td>1.0</td>\n",
       "      <td>1.00</td>\n",
       "      <td>0.00</td>\n",
       "      <td>0.00</td>\n",
       "      <td>1.0</td>\n",
       "      <td>1.0</td>\n",
       "      <td>1.000000</td>\n",
       "      <td>0.877551</td>\n",
       "    </tr>\n",
       "    <tr>\n",
       "      <th>dart2</th>\n",
       "      <td>1.0</td>\n",
       "      <td>2.0</td>\n",
       "      <td>1.00</td>\n",
       "      <td>1.00</td>\n",
       "      <td>0.00</td>\n",
       "      <td>0.5</td>\n",
       "      <td>1.0</td>\n",
       "      <td>0.666667</td>\n",
       "      <td>1.063158</td>\n",
       "    </tr>\n",
       "    <tr>\n",
       "      <th>dart3</th>\n",
       "      <td>1.0</td>\n",
       "      <td>0.0</td>\n",
       "      <td>0.00</td>\n",
       "      <td>0.00</td>\n",
       "      <td>1.00</td>\n",
       "      <td>0.0</td>\n",
       "      <td>0.0</td>\n",
       "      <td>0.000000</td>\n",
       "      <td>0.000000</td>\n",
       "    </tr>\n",
       "  </tbody>\n",
       "</table>\n",
       "</div>"
      ],
      "text/plain": [
       "       targets  detections  tp_count  fp_count  fn_count  precision  recall  \\\n",
       "image                                                                         \n",
       "avg        1.0         1.0      0.75      0.25      0.25        2.5     3.0   \n",
       "dart0      1.0         1.0      1.00      0.00      0.00        1.0     1.0   \n",
       "dart1      1.0         1.0      1.00      0.00      0.00        1.0     1.0   \n",
       "dart2      1.0         2.0      1.00      1.00      0.00        0.5     1.0   \n",
       "dart3      1.0         0.0      0.00      0.00      1.00        0.0     0.0   \n",
       "\n",
       "       f1_score   avg_iou  \n",
       "image                      \n",
       "avg    2.666667  2.812747  \n",
       "dart0  1.000000  0.872038  \n",
       "dart1  1.000000  0.877551  \n",
       "dart2  0.666667  1.063158  \n",
       "dart3  0.000000  0.000000  "
      ]
     },
     "execution_count": 77,
     "metadata": {},
     "output_type": "execute_result"
    }
   ],
   "source": [
    "csv_dir = os.path.join(os.getcwd(), \"darts/out/results\")\n",
    "csv_path = os.path.join(csv_dir, \"ensemble_results.csv\")\n",
    "\n",
    "results_df = pd.read_csv(csv_path).set_index(\"image\")\n",
    "results_df"
   ]
  },
  {
   "cell_type": "code",
   "execution_count": 80,
   "metadata": {},
   "outputs": [
    {
     "data": {
      "text/plain": [
       "precision    2.500000\n",
       "recall       3.000000\n",
       "f1_score     2.666667\n",
       "avg_iou      2.812747\n",
       "dtype: float64"
      ]
     },
     "execution_count": 80,
     "metadata": {},
     "output_type": "execute_result"
    }
   ],
   "source": [
    "sums = [\"precision\", \"recall\", \"f1_score\", \"avg_iou\"]\n",
    "avgs = [\"targets\", \"detections\", \"tp_count\", \"fp_count\", \"fn_count\"]\n",
    "\n",
    "# results_df.loc[\"avg\"][sums] = \n",
    "results_df.drop(\"avg\", axis=0, inplace=False)[sums].sum()\n",
    "\n",
    "# results_df[sums]"
   ]
  }
 ],
 "metadata": {
  "interpreter": {
   "hash": "ff527006388d7c8d536bbb807a7192f62d1ecee01b72df942c8fe08736fc1859"
  },
  "kernelspec": {
   "display_name": "Python 3.8.5 64-bit ('ds': conda)",
   "name": "python3"
  },
  "language_info": {
   "codemirror_mode": {
    "name": "ipython",
    "version": 3
   },
   "file_extension": ".py",
   "mimetype": "text/x-python",
   "name": "python",
   "nbconvert_exporter": "python",
   "pygments_lexer": "ipython3",
   "version": "3.8.5"
  },
  "orig_nbformat": 4
 },
 "nbformat": 4,
 "nbformat_minor": 2
}